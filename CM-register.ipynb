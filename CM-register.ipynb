{
 "cells": [
  {
   "cell_type": "markdown",
   "metadata": {},
   "source": [
    "# Takes data from the Capacity Market register extracted by Aurora Energy Research.\n",
    "\n",
    "\n",
    "* CM register \"existing\" don't generally have a date attached\n",
    "* Fuels inferred from info available but this involves assumptions\n",
    "* Assumes that all contracted sites will get built\n",
    "* This may be doubtful given the CM ruling\n",
    "* https://www.carbonbrief.org/qa-what-next-for-uk-capacity-market-after-surprise-eu-ruling"
   ]
  },
  {
   "cell_type": "code",
   "execution_count": 86,
   "metadata": {
    "collapsed": true
   },
   "outputs": [],
   "source": [
    "import pandas as pd\n",
    "import numpy as np\n",
    "import pprint as pprint\n",
    "import matplotlib.pyplot as plt\n",
    "import pyproj\n",
    "import re\n",
    "import os\n",
    "\n",
    "os.chdir('/Users/simon/Desktop/uk-map/')\n",
    "%matplotlib inline\n"
   ]
  },
  {
   "cell_type": "code",
   "execution_count": 87,
   "metadata": {},
   "outputs": [],
   "source": [
    "# load data extracted from the CM register by Aurora\n",
    "# NB most sites have postcodes, which are not particularly accurate\n",
    "# I have added lat/long columns to recips but only filled in a couple\n",
    "# some sites lack location data but do mention some location info in description\n",
    "\n",
    "\n",
    "\n",
    "# reciprocating gas/diesel engines\n",
    "recip = pd.read_excel('Battery & Recip CM projects 230418.xlsx', sheetname = 'Reciprocating engines')\n",
    "recip\n",
    "\n",
    "# name the columns\n",
    "recip.columns = ['blah','Site','Capacity (MW)','Postcode','Earliest CM entry','Location & description','Latitude','Longitude']\n",
    "\n",
    "# drop the first one, which is blank\n",
    "recip.drop('blah', axis=1, inplace=True)\n",
    "\n",
    "# drop rows where Capacity is not a number or has no value\n",
    "recip = recip[pd.to_numeric(recip['Capacity (MW)'], errors='coerce').notnull()]\n",
    "recip.dropna(subset=['Capacity (MW)'], inplace=True)\n",
    "\n",
    "# create columns for fuel and type\n",
    "recip['Fuel'] = np.nan\n",
    "recip['Type'] = 'Reciprocating engine'\n",
    "\n",
    "# add \"Gas\" where the word gas appears in description\n",
    "# this will mis-label some sites that mention eg \"Gas works land\" or \"gas meter point\"\n",
    "recip['Fuel'] = np.where(recip['Location & description'].str.contains('Gas ')|\n",
    "                         recip['Location & description'].str.contains('gas ')|\n",
    "                         recip['Location & description'].str.contains('Gas-')|\n",
    "                         recip['Location & description'].str.contains('gas-')|\n",
    "                         recip['Location & description'].str.contains('gas.'),'Gas',recip['Fuel'])\n",
    "# label diesel recips as \"Oil\" fuelled and type \"Diesel engine\"\n",
    "recip['Fuel'] = np.where((recip['Location & description'].str.contains('Diesel')|\n",
    "                          recip['Location & description'].str.contains('diesel')),'Oil',recip['Fuel'])\n",
    "recip['Type'] = np.where((recip['Location & description'].str.contains('Diesel')|\n",
    "                          recip['Location & description'].str.contains('diesel')),'Diesel engine',recip['Type'])\n",
    "\n",
    "#recip['Location & description'].loc[recip['Location & description'].str.contains('Gas')]\n",
    "#recip[['Fuel']].loc[recip['Location & description'].str.contains('Gas ')] = 'Gas'\n",
    "#recip[['Fuel']].loc[recip['Location & description'].str.contains('Gas ')]\n",
    "#recip"
   ]
  },
  {
   "cell_type": "code",
   "execution_count": 88,
   "metadata": {
    "collapsed": true
   },
   "outputs": [],
   "source": [
    "# import data on the lat/long of each UK postcode\n",
    "\n",
    "post_codes = pd.read_csv('ukpostcodes.csv')\n",
    "\n",
    "# drop lines that have lat 99.999 and long 0.000\n",
    "\n",
    "post_codes = post_codes[post_codes.latitude!=99.999999]"
   ]
  },
  {
   "cell_type": "code",
   "execution_count": 89,
   "metadata": {
    "collapsed": true
   },
   "outputs": [],
   "source": [
    "# merge the datasets\n",
    "\n",
    "recip2 = pd.merge(recip,post_codes,left_on=['Postcode'],right_on=['postcode'], how='left')\n",
    "\n",
    "recip2['Latitude'] = np.where(recip2.Latitude.isnull(),recip2.latitude,recip2.Latitude)\n",
    "recip2['Longitude'] = np.where(recip2.Longitude.isnull(),recip2.longitude,recip2.Longitude)"
   ]
  },
  {
   "cell_type": "code",
   "execution_count": 90,
   "metadata": {},
   "outputs": [],
   "source": [
    "# create short post\n",
    "\n",
    "recip2['short_post'] = recip2['Postcode'].str[:-1]\n",
    "post_codes['short_post'] = post_codes['postcode'].str[:-1]\n",
    "\n",
    "#find the average lat/long for each short post\n",
    "\n",
    "avg_code = post_codes[['short_post', 'latitude', 'longitude']].groupby(['short_post']).mean().reset_index()\n",
    "\n",
    "avg_code.columns = ['short_post','lat','lon']"
   ]
  },
  {
   "cell_type": "code",
   "execution_count": 91,
   "metadata": {},
   "outputs": [],
   "source": [
    "# merge data again\n",
    "\n",
    "recip3 = pd.merge(recip2,avg_code,left_on=['short_post'],right_on=['short_post'], how='left')"
   ]
  },
  {
   "cell_type": "code",
   "execution_count": 92,
   "metadata": {
    "collapsed": true
   },
   "outputs": [],
   "source": [
    "# use short_post avg lat/lon where no other option\n",
    "\n",
    "recip3['Latitude'] = np.where(recip3.Latitude.isnull(),recip3.lat,recip3.Latitude)\n",
    "recip3['Longitude'] = np.where(recip3.Longitude.isnull(),recip3.lon,recip3.Longitude)"
   ]
  },
  {
   "cell_type": "code",
   "execution_count": 93,
   "metadata": {},
   "outputs": [],
   "source": [
    "# drop sites without a location\n",
    "\n",
    "recip3.dropna(subset=['Latitude'],inplace=True)\n",
    "\n",
    "recip3['Year Open'] = np.nan\n",
    "recip3['Year Open'] = np.where(recip3['Earliest CM entry']>2018,2019,recip3['Year Open'])\n",
    "recip3['Year Open'] = np.where(recip3['Earliest CM entry']<2018,2008,recip3['Year Open'])\n",
    "recip3['Year Open'] = np.where(recip3['Earliest CM entry']==2018,2018,recip3['Year Open'])\n",
    "\n",
    "# tidy columns\n",
    "\n",
    "recip3.drop(['Postcode','Location & description','postcode','id','latitude','longitude','short_post','lat','lon','Earliest CM entry'], axis=1,inplace=True)\n",
    "\n",
    "\n",
    "# assume fuel is gas if not stated\n",
    "\n",
    "recip3['Fuel'].replace('nan','Gas',inplace=True)\n",
    "\n",
    "# add start/end etc\n",
    "\n",
    "recip3['yearStart'] = recip3['Year Open']\n",
    "recip3['yearEnd'] = 2019\n",
    "recip3['Renewable'] = 'No'\n",
    "recip3['Low-carbon'] = 'No'\n"
   ]
  },
  {
   "cell_type": "code",
   "execution_count": 94,
   "metadata": {
    "collapsed": true
   },
   "outputs": [],
   "source": [
    "recip3.to_csv('recip.csv',index=False, encoding='utf-8')"
   ]
  },
  {
   "cell_type": "code",
   "execution_count": null,
   "metadata": {
    "collapsed": true
   },
   "outputs": [],
   "source": []
  },
  {
   "cell_type": "code",
   "execution_count": null,
   "metadata": {
    "collapsed": true
   },
   "outputs": [],
   "source": []
  },
  {
   "cell_type": "code",
   "execution_count": null,
   "metadata": {
    "collapsed": true
   },
   "outputs": [],
   "source": []
  },
  {
   "cell_type": "markdown",
   "metadata": {
    "heading_collapsed": true
   },
   "source": [
    "# analysis and checks"
   ]
  },
  {
   "cell_type": "code",
   "execution_count": 69,
   "metadata": {
    "hidden": true
   },
   "outputs": [
    {
     "data": {
      "text/html": [
       "<div>\n",
       "<style>\n",
       "    .dataframe thead tr:only-child th {\n",
       "        text-align: right;\n",
       "    }\n",
       "\n",
       "    .dataframe thead th {\n",
       "        text-align: left;\n",
       "    }\n",
       "\n",
       "    .dataframe tbody tr th {\n",
       "        vertical-align: top;\n",
       "    }\n",
       "</style>\n",
       "<table border=\"1\" class=\"dataframe\">\n",
       "  <thead>\n",
       "    <tr style=\"text-align: right;\">\n",
       "      <th></th>\n",
       "      <th>Site</th>\n",
       "      <th>Capacity (MW)</th>\n",
       "      <th>Latitude</th>\n",
       "      <th>Longitude</th>\n",
       "      <th>Fuel</th>\n",
       "      <th>Type</th>\n",
       "      <th>Year Open</th>\n",
       "      <th>yearStart</th>\n",
       "      <th>yearEnd</th>\n",
       "      <th>Renewable</th>\n",
       "      <th>Low-carbon</th>\n",
       "    </tr>\n",
       "  </thead>\n",
       "  <tbody>\n",
       "    <tr>\n",
       "      <th>303</th>\n",
       "      <td>Sidings Road</td>\n",
       "      <td>2.767</td>\n",
       "      <td>53.1084</td>\n",
       "      <td>-1.24333</td>\n",
       "      <td>Gas</td>\n",
       "      <td>Reciprocating engine</td>\n",
       "      <td>2008.0</td>\n",
       "      <td>2008.0</td>\n",
       "      <td>2019</td>\n",
       "      <td>No</td>\n",
       "      <td>No</td>\n",
       "    </tr>\n",
       "    <tr>\n",
       "      <th>304</th>\n",
       "      <td>A41707</td>\n",
       "      <td>2.411</td>\n",
       "      <td>53.2426</td>\n",
       "      <td>-1.33532</td>\n",
       "      <td>Gas</td>\n",
       "      <td>Reciprocating engine</td>\n",
       "      <td>2019.0</td>\n",
       "      <td>2019.0</td>\n",
       "      <td>2019</td>\n",
       "      <td>No</td>\n",
       "      <td>No</td>\n",
       "    </tr>\n",
       "    <tr>\n",
       "      <th>305</th>\n",
       "      <td>A41709</td>\n",
       "      <td>2.386</td>\n",
       "      <td>53.2088</td>\n",
       "      <td>-1.18345</td>\n",
       "      <td>Gas</td>\n",
       "      <td>Reciprocating engine</td>\n",
       "      <td>2019.0</td>\n",
       "      <td>2019.0</td>\n",
       "      <td>2019</td>\n",
       "      <td>No</td>\n",
       "      <td>No</td>\n",
       "    </tr>\n",
       "    <tr>\n",
       "      <th>306</th>\n",
       "      <td>AUKN33</td>\n",
       "      <td>2</td>\n",
       "      <td>53.6185</td>\n",
       "      <td>-1.15791</td>\n",
       "      <td>Gas</td>\n",
       "      <td>Reciprocating engine</td>\n",
       "      <td>2018.0</td>\n",
       "      <td>2018.0</td>\n",
       "      <td>2019</td>\n",
       "      <td>No</td>\n",
       "      <td>No</td>\n",
       "    </tr>\n",
       "    <tr>\n",
       "      <th>307</th>\n",
       "      <td>FIRST RENEWABLE ALPHA LIMITED</td>\n",
       "      <td>2</td>\n",
       "      <td>52.3994</td>\n",
       "      <td>-1.14028</td>\n",
       "      <td>Oil</td>\n",
       "      <td>Diesel engine</td>\n",
       "      <td>2019.0</td>\n",
       "      <td>2019.0</td>\n",
       "      <td>2019</td>\n",
       "      <td>No</td>\n",
       "      <td>No</td>\n",
       "    </tr>\n",
       "  </tbody>\n",
       "</table>\n",
       "</div>"
      ],
      "text/plain": [
       "                              Site Capacity (MW) Latitude Longitude Fuel  \\\n",
       "303                   Sidings Road         2.767  53.1084  -1.24333  Gas   \n",
       "304                         A41707         2.411  53.2426  -1.33532  Gas   \n",
       "305                         A41709         2.386  53.2088  -1.18345  Gas   \n",
       "306                         AUKN33             2  53.6185  -1.15791  Gas   \n",
       "307  FIRST RENEWABLE ALPHA LIMITED             2  52.3994  -1.14028  Oil   \n",
       "\n",
       "                     Type  Year Open  yearStart  yearEnd Renewable Low-carbon  \n",
       "303  Reciprocating engine     2008.0     2008.0     2019        No         No  \n",
       "304  Reciprocating engine     2019.0     2019.0     2019        No         No  \n",
       "305  Reciprocating engine     2019.0     2019.0     2019        No         No  \n",
       "306  Reciprocating engine     2018.0     2018.0     2019        No         No  \n",
       "307         Diesel engine     2019.0     2019.0     2019        No         No  "
      ]
     },
     "execution_count": 69,
     "metadata": {},
     "output_type": "execute_result"
    }
   ],
   "source": [
    "recip3.tail()"
   ]
  },
  {
   "cell_type": "code",
   "execution_count": 5,
   "metadata": {
    "hidden": true
   },
   "outputs": [
    {
     "name": "stdout",
     "output_type": "stream",
     "text": [
      "464.882\n",
      "3591.277\n"
     ]
    }
   ],
   "source": [
    "print recip['Capacity (MW)'].loc[recip['Earliest CM entry']=='Existing'].sum()\n",
    "print recip['Capacity (MW)'].loc[recip['Earliest CM entry']!='Existing'].sum()\n",
    "\n",
    "#recip['Earliest CM entry'].unique()"
   ]
  },
  {
   "cell_type": "code",
   "execution_count": null,
   "metadata": {
    "collapsed": true,
    "hidden": true
   },
   "outputs": [],
   "source": []
  }
 ],
 "metadata": {
  "celltoolbar": "Raw Cell Format",
  "kernelspec": {
   "display_name": "Python 2",
   "language": "python",
   "name": "python2"
  },
  "language_info": {
   "codemirror_mode": {
    "name": "ipython",
    "version": 2
   },
   "file_extension": ".py",
   "mimetype": "text/x-python",
   "name": "python",
   "nbconvert_exporter": "python",
   "pygments_lexer": "ipython2",
   "version": "2.7.13"
  }
 },
 "nbformat": 4,
 "nbformat_minor": 1
}
