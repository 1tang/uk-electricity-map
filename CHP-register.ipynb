{
 "cells": [
  {
   "cell_type": "markdown",
   "metadata": {},
   "source": [
    "# CHP register\n",
    "\n",
    "Takes data from the BEIS CHP register\n",
    "https://chptools.decc.gov.uk/chp/public\n",
    "\n",
    "* Locations are postcodes, which have to be converted to lat/long\n",
    "* This is not pinpoint accurate\n",
    "* Data does not contain dates of opening or closing\n",
    "\n",
    "* data has been manually crosschecked against the map\n",
    "* large sites already appearing in the data are excluded\n",
    "* 99 sites below 1MW are excluded, totalling 25MW\n",
    "* 6 sites with no postcode match are excluded (another 25MW)\n",
    "\n"
   ]
  },
  {
   "cell_type": "code",
   "execution_count": 225,
   "metadata": {
    "collapsed": true
   },
   "outputs": [],
   "source": [
    "import pandas as pd\n",
    "import numpy as np\n",
    "import pprint as pprint\n",
    "import matplotlib.pyplot as plt\n",
    "import pyproj\n",
    "import re\n",
    "import os\n",
    "\n",
    "os.chdir('/Users/simon/Desktop/uk-map/')\n",
    "%matplotlib inline\n"
   ]
  },
  {
   "cell_type": "code",
   "execution_count": 226,
   "metadata": {},
   "outputs": [],
   "source": [
    "# read the full dataset\n",
    "\n",
    "df = pd.read_csv('CHP Public Data.csv')\n",
    "\n",
    "# replace the kW capacity column with one for MW\n",
    "\n",
    "df['Capacity (MW)'] = df['CHPTPC (kWe)'] / 1000\n",
    "\n",
    "# drop sites identified as already in the map\n",
    "# first reset the index so each row is uniquely numbered\n",
    "\n",
    "df = df.reset_index(drop=True)\n",
    "df = df.drop(df[(df.POSTCODE == 'DN40 3DZ') | (df.POSTCODE == 'KY7 6GU') | (df.POSTCODE == 'DL17 0SD') | (df.COMPANYNAME.str.contains('sund'))].index)\n",
    "df = df.drop(df[(df.COMPANYNAME=='IGGESUND PAPERBOARD (WORKINGTON) LTD')].index)\n",
    "\n",
    "# create fuel column and assume either gas, bio or waste\n",
    "\n",
    "df['Fuel'] = np.nan\n",
    "\n",
    "df['Fuel'] = np.where(df['PRIMEMOVER'].str.contains('Gas ')\n",
    "                      | df['PRIMEMOVER'].str.contains('gas ')\n",
    "                      | df['PRIMEMOVER'].str.contains('Gas-')\n",
    "                      | df['PRIMEMOVER'].str.contains('gas-')\n",
    "                      | df['PRIMEMOVER'].str.contains('gas.')\n",
    "                      | df['PRIMEMOVER'].str.contains('Reciprocating engine'),\n",
    "                      'Gas', df['Fuel'])\n",
    "\n",
    "df['Fuel'] = np.where((df['PRIMEMOVER'].str.contains('steam turbine')) &\n",
    "                      (df['SECTOR'].str.contains('printing')), 'Biomass',\n",
    "                      df['Fuel'])\n",
    "\n",
    "df['Fuel'] = np.where(df.Fuel == 'nan', 'Waste', df['Fuel'])\n",
    "\n",
    "# assign types\n",
    "\n",
    "df['Type'] = np.where(df['PRIMEMOVER'].str.contains('Combined cycle gas'),\n",
    "                      'Combined cycle', '')\n",
    "df['Type'] = np.where(df['PRIMEMOVER'].str.contains('Simple'), 'Gas turbine',\n",
    "                      df['Type'])\n",
    "df['Type'] = np.where(df['PRIMEMOVER'].str.contains('Reciprocating'),\n",
    "                      'Reciprocating engine', df['Type'])\n",
    "\n",
    "# label as CHP and, for bio, low-carbon\n",
    "\n",
    "df['CHP'] = 'Yes'\n",
    "df['Low-Carbon'] = np.where(df['Fuel'] == 'Biomass', 'Yes', 'No')\n",
    "\n",
    "# assume all sites opened before 2008 and won't close\n",
    "\n",
    "df['yearStart'] = 2008\n",
    "df['yearEnd'] = 2019\n",
    "\n",
    "# tidy up\n",
    "\n",
    "df.rename(columns={'COMPANYNAME': 'Site', 'CHPREGION': 'Region'}, inplace=True)\n",
    "\n",
    "df['Region'] = df['Region'].str.title()\n",
    "df['Site'] = df['Site'].str.title()\n",
    "\n",
    "df.drop(['CHPTPC (kWe)', 'TOWN', 'COUNTY', 'SECTOR'], axis=1, inplace=True)\n",
    "\n",
    "# drop 99 sites <1MW, totalling 25MW of capacity\n",
    "\n",
    "df = df[df['Capacity (MW)'] >= 1]"
   ]
  },
  {
   "cell_type": "code",
   "execution_count": 227,
   "metadata": {
    "collapsed": true
   },
   "outputs": [],
   "source": [
    "# import data on the lat/long of each UK postcode\n",
    "\n",
    "\n",
    "post_codes = pd.read_csv('ukpostcodes.csv')\n",
    "\n",
    "# drop lines that have lat 99.999 and long 0.000\n",
    "\n",
    "post_codes = post_codes[post_codes.latitude!=99.999999]\n"
   ]
  },
  {
   "cell_type": "code",
   "execution_count": 228,
   "metadata": {
    "collapsed": true
   },
   "outputs": [],
   "source": [
    "# remove tabs from postcodes else they won't align\n",
    "\n",
    "df['POSTCODE'] = df['POSTCODE'].str.strip()\n",
    "\n",
    "\n",
    "# merge the datasets\n",
    "\n",
    "df2 = pd.merge(df,post_codes,left_on=['POSTCODE'],right_on=['postcode'], how='left')"
   ]
  },
  {
   "cell_type": "code",
   "execution_count": 229,
   "metadata": {
    "collapsed": true
   },
   "outputs": [],
   "source": [
    "# fill the blanks\n",
    "\n",
    "df2['latitude'] = np.where(df2['POSTCODE'].str.contains('CA14'),54.665164,df2['latitude'])\n",
    "df2['longitude'] = np.where(df2['POSTCODE'].str.contains('CA14'),-3.546286,df2['longitude'])\n",
    "\n"
   ]
  },
  {
   "cell_type": "code",
   "execution_count": 230,
   "metadata": {
    "collapsed": true
   },
   "outputs": [],
   "source": [
    "# tidy up and save\n",
    "\n",
    "df2.drop(['PRIMEMOVER','POSTCODE','postcode','id'], axis=1,inplace=True)\n",
    "\n",
    "# export the data to a CSV ready for mapping\n",
    "\n",
    "df2.to_csv('chp.csv', index=False, encoding='utf-8')"
   ]
  },
  {
   "cell_type": "code",
   "execution_count": null,
   "metadata": {
    "collapsed": true
   },
   "outputs": [],
   "source": []
  },
  {
   "cell_type": "code",
   "execution_count": null,
   "metadata": {
    "collapsed": true
   },
   "outputs": [],
   "source": []
  },
  {
   "cell_type": "code",
   "execution_count": null,
   "metadata": {
    "collapsed": true
   },
   "outputs": [],
   "source": []
  }
 ],
 "metadata": {
  "celltoolbar": "Raw Cell Format",
  "kernelspec": {
   "display_name": "Python 2",
   "language": "python",
   "name": "python2"
  },
  "language_info": {
   "codemirror_mode": {
    "name": "ipython",
    "version": 2
   },
   "file_extension": ".py",
   "mimetype": "text/x-python",
   "name": "python",
   "nbconvert_exporter": "python",
   "pygments_lexer": "ipython2",
   "version": "2.7.13"
  }
 },
 "nbformat": 4,
 "nbformat_minor": 1
}
